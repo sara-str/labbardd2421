{
 "cells": [
  {
   "cell_type": "code",
   "execution_count": 1,
   "id": "b0c42750",
   "metadata": {},
   "outputs": [],
   "source": [
    "import numpy as np\n",
    "import random, math\n",
    "from scipy.optimize import minimize\n",
    "import matplotlib.pyplot as plt\n",
    "\n",
    "np.set_printoptions(precision=4, suppress=True)\n",
    "random.seed(0)\n",
    "np.random.seed(0)\n"
   ]
  },
  {
   "cell_type": "code",
   "execution_count": 2,
   "id": "69640f30",
   "metadata": {},
   "outputs": [],
   "source": [
    "# two blobs = class A (+1)\n",
    "classA = np.concatenate((\n",
    "    np.random.randn(10, 2) * 0.2 + [ 1.5,  0.5],\n",
    "    np.random.randn(10, 2) * 0.2 + [-1.5,  0.5]\n",
    "))\n",
    "# one blob = class B (-1)\n",
    "classB = np.random.randn(20, 2) * 0.2 + [0.0, -0.5]\n",
    "\n",
    "inputs  = np.concatenate((classA, classB))\n",
    "targets = np.concatenate(( np.ones(classA.shape[0]),\n",
    "                          -np.ones(classB.shape[0]) ))\n",
    "\n",
    "# shuffle once\n",
    "N = inputs.shape[0]\n",
    "perm = np.random.permutation(N)\n",
    "inputs  = inputs[perm]\n",
    "targets = targets[perm]\n"
   ]
  },
  {
   "cell_type": "code",
   "execution_count": 31,
   "id": "7d522fe4",
   "metadata": {},
   "outputs": [],
   "source": [
    "def linear_kernel(x, y):\n",
    "    return float(np.dot(x, y))\n",
    "\n",
    "def poly_kernel(x, y, degree=2, c=1.0):\n",
    "    return float((np.dot(x, y) + c) ** degree)\n",
    "\n",
    "def rbf_kernel(x, y, sigma=1.0):\n",
    "    diff = x - y\n",
    "    return float(np.exp(-np.dot(diff, diff) / (2.0 * sigma**2)))"
   ]
  },
  {
   "cell_type": "code",
   "execution_count": 32,
   "id": "bca572b0",
   "metadata": {},
   "outputs": [],
   "source": [
    "def build_P(X, t, kernel, **kparams):\n",
    "    N = X.shape[0]\n",
    "    P = np.zeros((N, N))\n",
    "    for i in range(N):\n",
    "        for j in range(N):\n",
    "            P[i, j] = t[i] * t[j] * kernel(X[i], X[j], **kparams)\n",
    "    return P\n",
    "\n",
    "def make_objective(P):\n",
    "    # 0.5 * a^T P a - sum(a)\n",
    "    return lambda a: 0.5 * a @ P @ a - np.sum(a)\n",
    "\n",
    "def make_zerofun(t):\n",
    "    # sum_i alpha_i * t_i = 0\n",
    "    return lambda a: float(np.dot(a, t))"
   ]
  },
  {
   "cell_type": "code",
   "execution_count": 33,
   "id": "6733d549",
   "metadata": {},
   "outputs": [
    {
     "data": {
      "text/plain": [
       "'\"\\nkernel  = poly_kernel\\nkparams = {\\'degree\\': 3, \\'c\\': 1.0}\\n\\n\\nkernel   = rbf_kernel\\nkparams  = dict(sigma=1.0)\\n\\n'"
      ]
     },
     "execution_count": 33,
     "metadata": {},
     "output_type": "execute_result"
    }
   ],
   "source": [
    "# choose kernel + its params\n",
    "\n",
    "\n",
    "kernel  = linear_kernel\n",
    "kparams = {}    # no extra params\n",
    "\n",
    "\"\"\"\"\n",
    "kernel  = poly_kernel\n",
    "kparams = {'degree': 3, 'c': 1.0}\n",
    "\n",
    "\n",
    "kernel   = rbf_kernel\n",
    "kparams  = dict(sigma=1.0)\n",
    "\n",
    "\"\"\""
   ]
  },
  {
   "cell_type": "code",
   "execution_count": 34,
   "id": "dca9d7b8",
   "metadata": {},
   "outputs": [
    {
     "data": {
      "text/plain": [
       "array([10.    , 10.    , 10.    , 10.    ,  0.    , 10.    , 10.    ,\n",
       "        5.1484, 10.    , 10.    ])"
      ]
     },
     "execution_count": 34,
     "metadata": {},
     "output_type": "execute_result"
    }
   ],
   "source": [
    "\n",
    "\n",
    "# soft-margin parameter\n",
    "C = 10.0\n",
    "\n",
    "P         = build_P(inputs, targets, kernel, **kparams)\n",
    "objective = make_objective(P)\n",
    "zerofun   = make_zerofun(targets)\n",
    "bounds    = [(0, C) for _ in range(N)]\n",
    "start     = np.zeros(N)\n",
    "constraint = {'type': 'eq', 'fun': zerofun}\n",
    "\n",
    "ret = minimize(objective, start, bounds=bounds, constraints=constraint)\n",
    "if not ret['success']:\n",
    "    raise RuntimeError(ret['message'])\n",
    "\n",
    "alpha = ret['x']\n",
    "alpha[:10]  # peek\n"
   ]
  },
  {
   "cell_type": "code",
   "execution_count": 35,
   "id": "7e7f4b5f",
   "metadata": {},
   "outputs": [
    {
     "data": {
      "text/plain": [
       "(30, (9.999999999968498, array([1.2851, 0.3206])))"
      ]
     },
     "execution_count": 35,
     "metadata": {},
     "output_type": "execute_result"
    }
   ],
   "source": [
    "def extract_support_vectors(alpha, X, t, thresh=1e-5):\n",
    "    sv = []\n",
    "    for i, a in enumerate(alpha):\n",
    "        if a > thresh:\n",
    "            sv.append((a, X[i], t[i]))\n",
    "    return sv\n",
    "\n",
    "support_vectors = extract_support_vectors(alpha, inputs, targets)\n",
    "len(support_vectors), support_vectors[0][:2]  # count, first (alpha, x)\n"
   ]
  },
  {
   "cell_type": "code",
   "execution_count": 36,
   "id": "8793a257",
   "metadata": {},
   "outputs": [
    {
     "data": {
      "text/plain": [
       "0.14770600331855643"
      ]
     },
     "execution_count": 36,
     "metadata": {},
     "output_type": "execute_result"
    }
   ],
   "source": [
    "def compute_b(sv, kernel, C=None, **kparams):\n",
    "    if C is None:\n",
    "        margin = [s for s in sv if s[0] > 1e-5]\n",
    "    else:\n",
    "        margin = [s for s in sv if 1e-5 < s[0] < C - 1e-5]\n",
    "    if not margin:              # fallback if all at bound\n",
    "        margin = sv\n",
    "    a_i, x_i, t_i = margin[0]   # pick one\n",
    "    s = 0.0\n",
    "    for a_j, x_j, t_j in sv:\n",
    "        s += a_j * t_j * kernel(x_i, x_j, **kparams)\n",
    "    return s - t_i\n",
    "\n",
    "b = compute_b(support_vectors, kernel, C=C, **kparams)\n",
    "b\n"
   ]
  },
  {
   "cell_type": "code",
   "execution_count": 37,
   "id": "9f273b7a",
   "metadata": {},
   "outputs": [],
   "source": [
    "def indicator(z, sv, kernel, b, **kparams):\n",
    "    s = 0.0\n",
    "    for a_i, x_i, t_i in sv:\n",
    "        s += a_i * t_i * kernel(z, x_i, **kparams)\n",
    "    return s - b\n"
   ]
  },
  {
   "cell_type": "code",
   "execution_count": 38,
   "id": "186691fa",
   "metadata": {},
   "outputs": [
    {
     "data": {
      "image/png": "[encoded data removed]",
      "text/plain": [
       "<Figure size 640x480 with 1 Axes>"
      ]
     },
     "metadata": {},
     "output_type": "display_data"
    }
   ],
   "source": [
    "# scatter\n",
    "plt.plot(classA[:,0], classA[:,1], 'b.')\n",
    "plt.plot(classB[:,0], classB[:,1], 'r.')\n",
    "\n",
    "# contours from indicator\n",
    "xgrid = np.linspace(-5, 5, 200)\n",
    "ygrid = np.linspace(-4, 4, 200)\n",
    "grid = np.array([[indicator(np.array([x, y]), support_vectors, kernel, b, **kparams)\n",
    "                  for x in xgrid] for y in ygrid])\n",
    "\n",
    "plt.contour(xgrid, ygrid, grid,\n",
    "            levels=(-1.0, 0.0, 1.0),\n",
    "            colors=('red', 'black', 'blue'),\n",
    "            linewidths=(1, 3, 1))\n",
    "\n",
    "# highlight support vectors\n",
    "sv_xy = np.array([x for _, x, _ in support_vectors])\n",
    "plt.scatter(sv_xy[:,0], sv_xy[:,1], s=80, facecolors='none', edgecolors='k')\n",
    "\n",
    "plt.axis('equal')\n",
    "plt.show()\n"
   ]
  }
 ],
 "metadata": {
  "kernelspec": {
   "display_name": "base",
   "language": "python",
   "name": "python3"
  },
  "language_info": {
   "codemirror_mode": {
    "name": "ipython",
    "version": 3
   },
   "file_extension": ".py",
   "mimetype": "text/x-python",
   "name": "python",
   "nbconvert_exporter": "python",
   "pygments_lexer": "ipython3",
   "version": "3.12.7"
  }
 },
 "nbformat": 4,
 "nbformat_minor": 5
}
