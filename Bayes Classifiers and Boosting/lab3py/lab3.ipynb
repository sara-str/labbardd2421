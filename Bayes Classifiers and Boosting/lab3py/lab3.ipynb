{
 "cells": [
  {
   "cell_type": "markdown",
   "metadata": {},
   "source": [
    "# Lab 3: Bayes Classifier and Boosting"
   ]
  },
  {
   "cell_type": "markdown",
   "metadata": {},
   "source": [
    "## Jupyter notebooks\n",
    "\n",
    "In this lab, you can use Jupyter <https://jupyter.org/> to get a nice layout of your code and plots in one document. However, you may also use Python as usual, without Jupyter.\n",
    "\n",
    "If you have Python and pip, you can install Jupyter with `sudo pip install jupyter`. Otherwise you can follow the instruction on <http://jupyter.readthedocs.org/en/latest/install.html>.\n",
    "\n",
    "And that is everything you need! Now use a terminal to go into the folder with the provided lab files. Then run `jupyter notebook` to start a session in that folder. Click `lab3.ipynb` in the browser window that appeared to start this very notebook. You should click on the cells in order and either press `ctrl+enter` or `run cell` in the toolbar above to evaluate all the expressions.\n",
    "\n",
    "Be sure to put `%matplotlib inline` at the top of every code cell where you call plotting functions to get the resulting plots inside the document."
   ]
  },
  {
   "cell_type": "markdown",
   "metadata": {},
   "source": [
    "## Import the libraries\n",
    "\n",
    "In Jupyter, select the cell below and press `ctrl + enter` to import the needed libraries.\n",
    "Check out `labfuns.py` if you are interested in the details."
   ]
  },
  {
   "cell_type": "code",
   "execution_count": 1,
   "metadata": {
    "collapsed": false
   },
   "outputs": [],
   "source": [
    "import numpy as np\n",
    "from scipy import misc\n",
    "from importlib import reload\n",
    "from labfuns import *\n",
    "import random"
   ]
  },
  {
   "cell_type": "markdown",
   "metadata": {},
   "source": [
    "## Bayes classifier functions to implement\n",
    "\n",
    "The lab descriptions state what each function should do."
   ]
  },
  {
   "cell_type": "code",
   "execution_count": 2,
   "metadata": {},
   "outputs": [],
   "source": [
    "def computePrior(labels, W=None):\n",
    "    Npts = labels.shape[0]\n",
    "    if W is None:\n",
    "        W = np.ones((Npts,1))/Npts\n",
    "    else:\n",
    "        assert(W.shape[0] == Npts)\n",
    "    classes = np.unique(labels)\n",
    "    Nclasses = np.size(classes)\n",
    "\n",
    "    prior = np.zeros((Nclasses,1))\n",
    "\n",
    "    # TODO: compute the values of prior for each class!\n",
    "    # ==========================\n",
    "    \n",
    "    for i, class_label in enumerate(classes):\n",
    "        # Find points belonging to current class\n",
    "        class_indices = (labels == class_label)\n",
    "        \n",
    "        # Sum the weights for this class\n",
    "        # Prior p(k) = sum of weights for class k / total weight\n",
    "        prior[i] = np.sum(W[class_indices])\n",
    "    \n",
    "    # ==========================\n",
    "\n",
    "    return prior"
   ]
  },
  {
   "cell_type": "code",
   "execution_count": 3,
   "metadata": {
    "collapsed": true
   },
   "outputs": [],
   "source": [
    "\n",
    "def mlParams(X, labels, W=None):\n",
    "    assert(X.shape[0]==labels.shape[0])\n",
    "    Npts,Ndims = np.shape(X)\n",
    "    classes = np.unique(labels)\n",
    "    Nclasses = np.size(classes)\n",
    "\n",
    "    if W is None:\n",
    "        W = np.ones((Npts,1))/float(Npts)\n",
    "\n",
    "    mu = np.zeros((Nclasses,Ndims))\n",
    "    sigma = np.zeros((Nclasses,Ndims,Ndims))\n",
    "\n",
    "    # TODO: fill in the code to compute mu and sigma!\n",
    "    # ==========================\n",
    "    \n",
    "    for i, class_label in enumerate(classes):\n",
    "        # Find indices of points belonging to current class\n",
    "        class_indices = (labels == class_label)\n",
    "        \n",
    "        # Get data points and weights for current class\n",
    "        X_class = X[class_indices]\n",
    "        W_class = W[class_indices]\n",
    "        \n",
    "        # Compute weighted sum of weights for normalization\n",
    "        W_sum = np.sum(W_class)\n",
    "        \n",
    "        # Compute weighted mean (mu)\n",
    "        mu[i] = np.sum(W_class * X_class, axis=0) / W_sum\n",
    "        \n",
    "        # Compute weighted covariance (sigma)\n",
    "        # Center the data points\n",
    "        X_centered = X_class - mu[i]\n",
    "        \n",
    "        # Compute weighted covariance matrix\n",
    "        sigma[i] = np.dot((W_class * X_centered).T, X_centered) / W_sum\n",
    "    \n",
    "    # ==========================\n",
    "\n",
    "    return mu, sigma\n",
    "\n"
   ]
  },
  {
   "cell_type": "code",
   "execution_count": 4,
   "metadata": {},
   "outputs": [],
   "source": [
    "def classifyBayes(X, prior, mu, sigma):\n",
    "    Npts = X.shape[0]\n",
    "    Nclasses, Ndims = np.shape(mu)\n",
    "    logProb = np.zeros((Nclasses, Npts))\n",
    "\n",
    "    # TODO: fill in the code to compute the log posterior logProb!\n",
    "    # ==========================\n",
    "    \n",
    "    for k in range(Nclasses):\n",
    "        # For each class k, compute log discriminant function for all points\n",
    "        \n",
    "        # Get mean and covariance for class k\n",
    "        mu_k = mu[k]  # shape: (Ndims,)\n",
    "        sigma_k = sigma[k]  # shape: (Ndims, Ndims)\n",
    "        \n",
    "        # Compute log prior\n",
    "        log_prior_k = np.log(prior[k])\n",
    "        \n",
    "        # Compute log determinant of covariance matrix\n",
    "        log_det_sigma_k = np.log(np.linalg.det(sigma_k))\n",
    "        \n",
    "        # Compute inverse of covariance matrix\n",
    "        sigma_k_inv = np.linalg.inv(sigma_k)\n",
    "        \n",
    "        # For each data point, compute the discriminant function\n",
    "        for i in range(Npts):\n",
    "            x = X[i]  # Current data point\n",
    "            \n",
    "            # Center the data point\n",
    "            x_centered = x - mu_k  # shape: (Ndims,)\n",
    "            \n",
    "            # Compute quadratic term: (x - mu_k)^T * Sigma_k^(-1) * (x - mu_k)\n",
    "            quadratic_term = np.dot(x_centered.T, np.dot(sigma_k_inv, x_centered))\n",
    "            \n",
    "            # Compute log discriminant function (Equation 11 from the document)\n",
    "            # δ_k(x) = -1/2 * log|Σ_k| - 1/2 * (x-μ_k)^T * Σ_k^(-1) * (x-μ_k) + log(p(k))\n",
    "            logProb[k, i] = (-0.5 * log_det_sigma_k - \n",
    "                            0.5 * quadratic_term + \n",
    "                            log_prior_k)\n",
    "    \n",
    "    # ==========================\n",
    "    \n",
    "    # one possible way of finding max a-posteriori once\n",
    "    # you have computed the log posterior\n",
    "    h = np.argmax(logProb, axis=0)\n",
    "    return h"
   ]
  },
  {
   "cell_type": "markdown",
   "metadata": {},
   "source": [
    "The implemented functions can now be summarized into the `BayesClassifier` class, which we will use later to test the classifier, no need to add anything else here:"
   ]
  },
  {
   "cell_type": "code",
   "execution_count": 5,
   "metadata": {
    "collapsed": true
   },
   "outputs": [],
   "source": [
    "# NOTE: no need to touch this\n",
    "class BayesClassifier(object):\n",
    "    def __init__(self):\n",
    "        self.trained = False\n",
    "\n",
    "    def trainClassifier(self, X, labels, W=None):\n",
    "        rtn = BayesClassifier()\n",
    "        rtn.prior = computePrior(labels, W)\n",
    "        rtn.mu, rtn.sigma = mlParams(X, labels, W)\n",
    "        rtn.trained = True\n",
    "        return rtn\n",
    "\n",
    "    def classify(self, X):\n",
    "        return classifyBayes(X, self.prior, self.mu, self.sigma)"
   ]
  },
  {
   "cell_type": "markdown",
   "metadata": {},
   "source": [
    "## Test the Maximum Likelihood estimates\n",
    "\n",
    "Call `genBlobs` and `plotGaussian` to verify your estimates."
   ]
  },
  {
   "cell_type": "code",
   "execution_count": 6,
   "metadata": {},
   "outputs": [],
   "source": [
    "# NOTE: you do not need to handle the W argument for this part!\n",
    "# in: labels - N vector of class labels\n",
    "# out: prior - C x 1 vector of class priors\n",
    "def computePrior(labels, W):\n",
    "    Npts = labels.shape[0]\n",
    "    if W is None:\n",
    "        W = np.ones((Npts,1))/Npts\n",
    "    else:\n",
    "        assert(W.shape[0] == Npts)\n",
    "    classes = np.unique(labels)\n",
    "    Nclasses = np.size(classes)\n",
    "\n",
    "    prior = np.zeros((Nclasses,1))\n",
    "    \n",
    "    # TODO: compute the values of prior for each class!\n",
    "    # ========================== \n",
    "    \n",
    "    for k in classes:\n",
    "        index = np.where(labels == k)[0]\n",
    "        W_k = W[index,:]\n",
    "        prior[k] = sum(W_k) / sum(W)\n",
    "     \n",
    "    # ==========================\n",
    "\n",
    "    return prior\n",
    "\n",
    "# NOTE: you do not need to handle the W argument for this part!\n",
    "# in:      X - N x d matrix of N data points\n",
    "#     labels - N vector of class labels\n",
    "# out:    mu - C x d matrix of class means (mu[i] - class i mean)\n",
    "#      sigma - C x d x d matrix of class covariances (sigma[i] - class i sigma)\n",
    "def mlParams(X, labels, W):\n",
    "    assert(X.shape[0]==labels.shape[0])\n",
    "    Npts,Ndims = np.shape(X)\n",
    "    classes = np.unique(labels)\n",
    "    Nclasses = np.size(classes)\n",
    "    if W is None:\n",
    "        W = np.ones((Npts,1))/float(Npts)\n",
    "\n",
    "    mu = np.zeros((Nclasses,Ndims))\n",
    "    sigma = np.zeros((Nclasses,Ndims,Ndims))\n",
    "    \n",
    "    # TODO: fill in the code to compute mu and sigma!\n",
    "    # ==========================\n",
    "    for k in classes:\n",
    "        index = np.where(labels == k)[0]\n",
    "        X_k = X[index,:]\n",
    "        W_k = W[index,:]\n",
    "        \n",
    "        \"\"\" Mean \"\"\"\n",
    "        mu[k] = np.sum((np.dot(W_k.T, X_k)), axis = 0) / sum(W_k)    # Formula (13)\n",
    "        \n",
    "        \"\"\" Sigma \"\"\"\n",
    "        for p in range(Ndims):\n",
    "            totsum = 0\n",
    "            for x in index:\n",
    "                totsum += W[x]*(X[x][p] - mu[k][p]) ** 2\n",
    "            sigma[k][p][p] = totsum / sum(W_k)\n",
    "\n",
    "    # ==========================\n",
    "    \n",
    "    return mu, sigma\n",
    "\n",
    "# in:      X - N x d matrix of M data points\n",
    "#      prior - C x 1 matrix of class priors\n",
    "#         mu - C x d matrix of class means (mu[i] - class i mean)\n",
    "#      sigma - C x d x d matrix of class covariances (sigma[i] - class i sigma)\n",
    "# out:     h - N vector of class predictions for test points\n",
    "def classifyBayes(X, prior, mu, sigma):\n",
    "\n",
    "    Npts = X.shape[0]\n",
    "    Nclasses,Ndims = np.shape(mu)\n",
    "    logProb = np.zeros((Nclasses, Npts))\n",
    "    \n",
    "    # TODO: fill in the code to compute the log posterior logProb!\n",
    "    # ==========================\n",
    "    for index in range(Npts):\n",
    "        for k in range(Nclasses):\n",
    "            detSig, invSeg = np.linalg.det(sigma[k]), np.linalg.inv(sigma[k]) # Determinant and inverse of sigma[k]\n",
    "            logProb[k][index] = -1/2 * np.log(detSig) - 1/2 * np.linalg.multi_dot([(X[index] - mu[k]), invSeg, (X[index] - mu[k]).T]) + np.log(prior[k])\n",
    "    # ==========================\n",
    "    \n",
    "    # one possible way of finding max a-posteriori once\n",
    "    # you have computed the log posterior\n",
    "    h = np.argmax(logProb,axis=0)\n",
    "    return h"
   ]
  },
  {
   "cell_type": "code",
   "execution_count": 7,
   "metadata": {
    "collapsed": false
   },
   "outputs": [
    {
     "ename": "TypeError",
     "evalue": "mlParams() missing 1 required positional argument: 'W'",
     "output_type": "error",
     "traceback": [
      "\u001b[0;31m---------------------------------------------------------------------------\u001b[0m",
      "\u001b[0;31mTypeError\u001b[0m                                 Traceback (most recent call last)",
      "Cell \u001b[0;32mIn[7], line 4\u001b[0m\n\u001b[1;32m      1\u001b[0m get_ipython()\u001b[38;5;241m.\u001b[39mrun_line_magic(\u001b[38;5;124m'\u001b[39m\u001b[38;5;124mmatplotlib\u001b[39m\u001b[38;5;124m'\u001b[39m, \u001b[38;5;124m'\u001b[39m\u001b[38;5;124minline\u001b[39m\u001b[38;5;124m'\u001b[39m)\n\u001b[1;32m      3\u001b[0m X, labels \u001b[38;5;241m=\u001b[39m genBlobs(centers\u001b[38;5;241m=\u001b[39m\u001b[38;5;241m5\u001b[39m)\n\u001b[0;32m----> 4\u001b[0m mu, sigma \u001b[38;5;241m=\u001b[39m mlParams(X,labels)\n\u001b[1;32m      5\u001b[0m plotGaussian(X,labels,mu,sigma)\n",
      "\u001b[0;31mTypeError\u001b[0m: mlParams() missing 1 required positional argument: 'W'"
     ]
    }
   ],
   "source": [
    "%matplotlib inline\n",
    "\n",
    "X, labels = genBlobs(centers=5)\n",
    "mu, sigma = mlParams(X,labels)\n",
    "plotGaussian(X,labels,mu,sigma)"
   ]
  },
  {
   "cell_type": "markdown",
   "metadata": {},
   "source": [
    "Call the `testClassifier` and `plotBoundary` functions for this part."
   ]
  },
  {
   "cell_type": "code",
   "execution_count": null,
   "metadata": {
    "collapsed": false
   },
   "outputs": [],
   "source": [
    "testClassifier(BayesClassifier(), dataset='iris', split=0.7)"
   ]
  },
  {
   "cell_type": "code",
   "execution_count": null,
   "metadata": {
    "collapsed": false
   },
   "outputs": [],
   "source": [
    "testClassifier(BayesClassifier(), dataset='vowel', split=0.7)"
   ]
  },
  {
   "cell_type": "code",
   "execution_count": null,
   "metadata": {
    "collapsed": false
   },
   "outputs": [],
   "source": [
    "%matplotlib inline\n",
    "plotBoundary(BayesClassifier(), dataset='iris',split=0.7)"
   ]
  },
  {
   "cell_type": "code",
   "execution_count": null,
   "metadata": {},
   "outputs": [],
   "source": []
  },
  {
   "cell_type": "markdown",
   "metadata": {},
   "source": [
    "## Boosting functions to implement\n",
    "\n",
    "The lab descriptions state what each function should do."
   ]
  },
  {
   "cell_type": "code",
   "execution_count": null,
   "metadata": {
    "collapsed": true
   },
   "outputs": [],
   "source": [
    "# in: base_classifier - a classifier of the type that we will boost, e.g. BayesClassifier\n",
    "#                   X - N x d matrix of N data points\n",
    "#              labels - N vector of class labels\n",
    "#                   T - number of boosting iterations\n",
    "# out:    classifiers - (maximum) length T Python list of trained classifiers\n",
    "#              alphas - (maximum) length T Python list of vote weights\n",
    "def trainBoost(base_classifier, X, labels, T=10):\n",
    "    # these will come in handy later on\n",
    "    Npts,Ndims = np.shape(X)\n",
    "\n",
    "    classifiers = [] # append new classifiers to this list\n",
    "    alphas = [] # append the vote weight of the classifiers to this list\n",
    "\n",
    "    # The weights for the first iteration\n",
    "    wCur = np.ones((Npts,1))/float(Npts)\n",
    "\n",
    "    for i_iter in range(0, T):\n",
    "        # a new classifier can be trained like this, given the current weights\n",
    "        classifiers.append(base_classifier.trainClassifier(X, labels, wCur))\n",
    "\n",
    "        # do classification for each point\n",
    "        vote = classifiers[-1].classify(X)\n",
    "\n",
    "        # TODO: Fill in the rest, construct the alphas etc.\n",
    "        # ==========================\n",
    "        \n",
    "        # alphas.append(alpha) # you will need to append the new alpha\n",
    "        # ==========================\n",
    "        \n",
    "    return classifiers, alphas\n",
    "\n",
    "# in:       X - N x d matrix of N data points\n",
    "# classifiers - (maximum) length T Python list of trained classifiers as above\n",
    "#      alphas - (maximum) length T Python list of vote weights\n",
    "#    Nclasses - the number of different classes\n",
    "# out:  yPred - N vector of class predictions for test points\n",
    "def classifyBoost(X, classifiers, alphas, Nclasses):\n",
    "    Npts = X.shape[0]\n",
    "    Ncomps = len(classifiers)\n",
    "\n",
    "    # if we only have one classifier, we may just classify directly\n",
    "    if Ncomps == 1:\n",
    "        return classifiers[0].classify(X)\n",
    "    else:\n",
    "        votes = np.zeros((Npts,Nclasses))\n",
    "\n",
    "        # TODO: implement classificiation when we have trained several classifiers!\n",
    "        # here we can do it by filling in the votes vector with weighted votes\n",
    "        # ==========================\n",
    "        \n",
    "        # ==========================\n",
    "\n",
    "        # one way to compute yPred after accumulating the votes\n",
    "        return np.argmax(votes,axis=1)"
   ]
  },
  {
   "cell_type": "markdown",
   "metadata": {},
   "source": [
    "The implemented functions can now be summarized another classifer, the `BoostClassifier` class. This class enables boosting different types of classifiers by initializing it with the `base_classifier` argument. No need to add anything here."
   ]
  },
  {
   "cell_type": "code",
   "execution_count": null,
   "metadata": {
    "collapsed": true
   },
   "outputs": [],
   "source": [
    "# NOTE: no need to touch this\n",
    "class BoostClassifier(object):\n",
    "    def __init__(self, base_classifier, T=10):\n",
    "        self.base_classifier = base_classifier\n",
    "        self.T = T\n",
    "        self.trained = False\n",
    "\n",
    "    def trainClassifier(self, X, labels):\n",
    "        rtn = BoostClassifier(self.base_classifier, self.T)\n",
    "        rtn.nbr_classes = np.size(np.unique(labels))\n",
    "        rtn.classifiers, rtn.alphas = trainBoost(self.base_classifier, X, labels, self.T)\n",
    "        rtn.trained = True\n",
    "        return rtn\n",
    "\n",
    "    def classify(self, X):\n",
    "        return classifyBoost(X, self.classifiers, self.alphas, self.nbr_classes)"
   ]
  },
  {
   "cell_type": "code",
   "execution_count": null,
   "metadata": {},
   "outputs": [],
   "source": [
    "# Assignment 3 - Complete execution and results collection\n",
    "\n",
    "\n",
    "# Step 1: Generate data and verify estimates\n",
    "print(\"Step 1: Generating data and verifying ML estimates\")\n",
    "print(\"=\" * 50)\n",
    "\n",
    "%matplotlib inline\n",
    "\n",
    "# Generate blob data and compute ML parameters\n",
    "X, labels = genBlobs(centers=5)\n",
    "mu, sigma = mlParams(X, labels)\n",
    "plotGaussian(X, labels, mu, sigma)\n",
    "plt.title(\"ML Parameter Estimates Verification\")\n",
    "plt.show()\n",
    "\n",
    "# Step 2: Run testClassifier for both datasets multiple times\n",
    "print(\"\\nStep 2: Running classification tests\")\n",
    "print(\"=\" * 50)\n",
    "\n",
    "# Function to collect accuracy results\n",
    "def collect_accuracy_results():\n",
    "    # Define trial seeds (as shown in your image)\n",
    "    trials = [0, 10, 20, 30, 40, 50, 60, 70, 80, 90]\n",
    "    \n",
    "    iris_accuracies = []\n",
    "    vowel_accuracies = []\n",
    "    \n",
    "    print(\"Running Iris dataset tests...\")\n",
    "    for trial in trials:\n",
    "        print(f\"Trial {trial}:\", end=\" \")\n",
    "        # Run testClassifier and capture the accuracy\n",
    "        # Note: testClassifier should return accuracy value\n",
    "        accuracy = testClassifier(BayesClassifier(), dataset='iris', split=0.7)\n",
    "        iris_accuracies.append(accuracy)\n",
    "        print(f\"Accuracy = {accuracy:.1f}%\")\n",
    "    \n",
    "    print(\"\\nRunning Vowel dataset tests...\")\n",
    "    for trial in trials:\n",
    "        print(f\"Trial {trial}:\", end=\" \")\n",
    "        accuracy = testClassifier(BayesClassifier(), dataset='vowel', split=0.7)\n",
    "        vowel_accuracies.append(accuracy)\n",
    "        print(f\"Accuracy = {accuracy:.1f}%\")\n",
    "    \n",
    "    return iris_accuracies, vowel_accuracies\n",
    "\n",
    "# Function to display results in the required format\n",
    "def display_results_table(iris_accuracies, vowel_accuracies):\n",
    "    trials = [0, 10, 20, 30, 40, 50, 60, 70, 80, 90]\n",
    "    \n",
    "    print(\"\\n\" + \"=\" * 80)\n",
    "    print(\"ASSIGNMENT 3 RESULTS\")\n",
    "    print(\"=\" * 80)\n",
    "    \n",
    "    # Create side-by-side tables\n",
    "    print(f\"{'Iris dataset':<30} {'Vowel dataset':<30}\")\n",
    "    print(f\"{'Trial':<8}{'Accuracy':<15} {'Trial':<8}{'Accuracy':<15}\")\n",
    "    print(\"-\" * 60)\n",
    "    \n",
    "    for i, trial in enumerate(trials):\n",
    "        iris_acc = iris_accuracies[i]\n",
    "        vowel_acc = vowel_accuracies[i]\n",
    "        print(f\"{trial:<8}{iris_acc:<15.1f} {trial:<8}{vowel_acc:<15.1f}\")\n",
    "    \n",
    "    # Calculate and display statistics\n",
    "    iris_mean = np.mean(iris_accuracies)\n",
    "    iris_std = np.std(iris_accuracies, ddof=1)  # Sample standard deviation\n",
    "    vowel_mean = np.mean(vowel_accuracies)\n",
    "    vowel_std = np.std(vowel_accuracies, ddof=1)\n",
    "    \n",
    "    print(\"-\" * 60)\n",
    "    print(f\"Final mean classification accuracy {iris_mean:.0f} \"\n",
    "          f\"with standard deviation {iris_std:.2f}\")\n",
    "    print(f\"                                    \"\n",
    "          f\"Final mean classification accuracy {vowel_mean:.1f} \"\n",
    "          f\"with standard deviation {vowel_std:.2f}\")\n",
    "\n",
    "# Step 3: Generate decision boundary plot for iris dataset\n",
    "print(\"\\nStep 3: Generating decision boundary plot\")\n",
    "print(\"=\" * 50)\n",
    "\n",
    "%matplotlib inline\n",
    "plotBoundary(BayesClassifier(), dataset='iris', split=0.7)\n",
    "plt.title(\"Decision Boundary - Iris Dataset\")\n",
    "plt.show()\n",
    "\n",
    "# Execute the accuracy collection and display\n",
    "print(\"\\nExecuting classification tests...\")\n",
    "iris_results, vowel_results = collect_accuracy_results()\n",
    "display_results_table(iris_results, vowel_results)\n",
    "\n",
    "# Alternative: If you want to run the tests manually and input results\n",
    "def manual_input_results():\n",
    "    \"\"\"\n",
    "    Use this if you want to manually input the accuracy results\n",
    "    \"\"\"\n",
    "    print(\"Enter accuracy results manually:\")\n",
    "    \n",
    "    iris_accuracies = []\n",
    "    vowel_accuracies = []\n",
    "    \n",
    "    trials = [0, 10, 20, 30, 40, 50, 60, 70, 80, 90]\n",
    "    \n",
    "    print(\"Iris dataset accuracies:\")\n",
    "    for trial in trials:\n",
    "        acc = float(input(f\"Trial {trial} accuracy: \"))\n",
    "        iris_accuracies.append(acc)\n",
    "    \n",
    "    print(\"Vowel dataset accuracies:\")\n",
    "    for trial in trials:\n",
    "        acc = float(input(f\"Trial {trial} accuracy: \"))\n",
    "        vowel_accuracies.append(acc)\n",
    "    \n",
    "    display_results_table(iris_accuracies, vowel_accuracies)\n",
    "    return iris_accuracies, vowel_accuracies\n",
    "\n",
    "# Uncomment the line below if you prefer manual input:\n",
    "# manual_input_results()"
   ]
  },
  {
   "cell_type": "markdown",
   "metadata": {},
   "source": [
    "## Run some experiments\n",
    "\n",
    "Call the `testClassifier` and `plotBoundary` functions for this part."
   ]
  },
  {
   "cell_type": "code",
   "execution_count": null,
   "metadata": {
    "collapsed": false
   },
   "outputs": [],
   "source": [
    "testClassifier(BoostClassifier(BayesClassifier(), T=10), dataset='iris',split=0.7)"
   ]
  },
  {
   "cell_type": "code",
   "execution_count": null,
   "metadata": {
    "collapsed": false
   },
   "outputs": [],
   "source": [
    "testClassifier(BoostClassifier(BayesClassifier(), T=10), dataset='vowel',split=0.7)"
   ]
  },
  {
   "cell_type": "code",
   "execution_count": null,
   "metadata": {
    "collapsed": false
   },
   "outputs": [],
   "source": [
    "%matplotlib inline\n",
    "plotBoundary(BoostClassifier(BayesClassifier()), dataset='iris',split=0.7)"
   ]
  },
  {
   "cell_type": "markdown",
   "metadata": {},
   "source": [
    "Now repeat the steps with a decision tree classifier."
   ]
  },
  {
   "cell_type": "code",
   "execution_count": null,
   "metadata": {
    "collapsed": false
   },
   "outputs": [],
   "source": [
    "testClassifier(DecisionTreeClassifier(), dataset='iris', split=0.7)"
   ]
  },
  {
   "cell_type": "code",
   "execution_count": null,
   "metadata": {
    "collapsed": false
   },
   "outputs": [],
   "source": [
    "testClassifier(BoostClassifier(DecisionTreeClassifier(), T=10), dataset='iris',split=0.7)"
   ]
  },
  {
   "cell_type": "code",
   "execution_count": null,
   "metadata": {
    "collapsed": false
   },
   "outputs": [],
   "source": [
    "testClassifier(DecisionTreeClassifier(), dataset='vowel',split=0.7)"
   ]
  },
  {
   "cell_type": "code",
   "execution_count": null,
   "metadata": {
    "collapsed": false
   },
   "outputs": [],
   "source": [
    "testClassifier(BoostClassifier(DecisionTreeClassifier(), T=10), dataset='vowel',split=0.7)"
   ]
  },
  {
   "cell_type": "code",
   "execution_count": null,
   "metadata": {
    "collapsed": false
   },
   "outputs": [],
   "source": [
    "%matplotlib inline\n",
    "plotBoundary(DecisionTreeClassifier(), dataset='iris',split=0.7)"
   ]
  },
  {
   "cell_type": "code",
   "execution_count": null,
   "metadata": {
    "collapsed": false
   },
   "outputs": [],
   "source": [
    "%matplotlib inline\n",
    "plotBoundary(BoostClassifier(DecisionTreeClassifier(), T=10), dataset='iris',split=0.7)"
   ]
  },
  {
   "cell_type": "markdown",
   "metadata": {},
   "source": [
    "## Bonus: Visualize faces classified using boosted decision trees\n",
    "\n",
    "Note that this part of the assignment is completely voluntary! First, let's check how a boosted decision tree classifier performs on the olivetti data. Note that we need to reduce the dimension a bit using PCA, as the original dimension of the image vectors is `64 x 64 = 4096` elements."
   ]
  },
  {
   "cell_type": "code",
   "execution_count": null,
   "metadata": {
    "collapsed": false
   },
   "outputs": [],
   "source": [
    "testClassifier(BayesClassifier(), dataset='olivetti',split=0.7, dim=20)"
   ]
  },
  {
   "cell_type": "code",
   "execution_count": null,
   "metadata": {
    "collapsed": false
   },
   "outputs": [],
   "source": [
    "testClassifier(BoostClassifier(DecisionTreeClassifier(), T=10), dataset='olivetti',split=0.7, dim=20)"
   ]
  },
  {
   "cell_type": "markdown",
   "metadata": {},
   "source": [
    "You should get an accuracy around 70%. If you wish, you can compare this with using pure decision trees or a boosted bayes classifier. Not too bad, now let's try and classify a face as belonging to one of 40 persons!"
   ]
  },
  {
   "cell_type": "code",
   "execution_count": null,
   "metadata": {
    "collapsed": true
   },
   "outputs": [],
   "source": [
    "%matplotlib inline\n",
    "X,y,pcadim = fetchDataset('olivetti') # fetch the olivetti data\n",
    "xTr,yTr,xTe,yTe,trIdx,teIdx = trteSplitEven(X,y,0.7) # split into training and testing\n",
    "pca = decomposition.PCA(n_components=20) # use PCA to reduce the dimension to 20\n",
    "pca.fit(xTr) # use training data to fit the transform\n",
    "xTrpca = pca.transform(xTr) # apply on training data\n",
    "xTepca = pca.transform(xTe) # apply on test data\n",
    "# use our pre-defined decision tree classifier together with the implemented\n",
    "# boosting to classify data points in the training data\n",
    "classifier = BoostClassifier(DecisionTreeClassifier(), T=10).trainClassifier(xTrpca, yTr)\n",
    "yPr = classifier.classify(xTepca)\n",
    "# choose a test point to visualize\n",
    "testind = random.randint(0, xTe.shape[0]-1)\n",
    "# visualize the test point together with the training points used to train\n",
    "# the class that the test point was classified to belong to\n",
    "visualizeOlivettiVectors(xTr[yTr == yPr[testind],:], xTe[testind,:])"
   ]
  }
 ],
 "metadata": {
  "kernelspec": {
   "display_name": "base",
   "language": "python",
   "name": "python3"
  },
  "language_info": {
   "codemirror_mode": {
    "name": "ipython",
    "version": 3
   },
   "file_extension": ".py",
   "mimetype": "text/x-python",
   "name": "python",
   "nbconvert_exporter": "python",
   "pygments_lexer": "ipython3",
   "version": "3.12.7"
  }
 },
 "nbformat": 4,
 "nbformat_minor": 0
}
